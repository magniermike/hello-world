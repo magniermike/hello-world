{
  "cells": [
    {
      "cell_type": "markdown",
      "metadata": {
        "colab_type": "text",
        "id": "1NCGks54kp_n"
      },
      "source": [
        "# How much do you get for your savings ?"
      ]
    },
    {
      "cell_type": "markdown",
      "metadata": {
        "colab_type": "text",
        "id": "75Xe4f7vksGZ"
      },
      "source": [
        "It is said that if Christopher Columbus had set aside €1 that he had left at 2% interest per year, today his heirs would no longer need to work to live their lives. Let's try to calculate the same thing for our savings. "
      ]
    },
    {
      "cell_type": "markdown",
      "metadata": {
        "colab_type": "text",
        "id": "v4ugjwIakv2c"
      },
      "source": [
        "1. So let's create a function that will allow us to know how much money a user will have in total after a certain number of years.\n",
        "\n",
        "2. The user should be able to call the function which will then ask for :\n",
        "\n",
        "    1. The total amount he wishes to place\n",
        "    2. The number of years he wants to invest his money for\n",
        "    3. The rate of interest to which he is entitled\n",
        "    \n",
        "3. Pay attention to the errors that the user may enter.\n",
        "\n",
        "    4. If he enters a string of characters rather than a number, an error should be displayed.\n",
        "    5. If the user enters negative numbers, an error should also be output.\n",
        "    6. Finally, it is very likely that the user will write the interest rate as a percentage (e.g. 10%). Raise an error if this is the case, to prevent him from inputting a percentage.\n",
        "    \n",
        "4. Finally, the program should only show one number with a maximum of two digits after the decimal point.\n"
      ]
    },
    {
      "cell_type": "code",
      "execution_count": 8,
      "metadata": {
        "colab": {
          "base_uri": "https://localhost:8080/",
          "height": 173
        },
        "colab_type": "code",
        "id": "ovkcocqXkp2k",
        "outputId": "c6b46d9b-3503-4490-f19a-4a7e35194eea"
      },
      "outputs": [],
      "source": [
        "def savings():\n",
        "    try:\n",
        "        initial_amount = float(input(\"Give us the total amount you wish to invest : \\n\"))\n",
        "        print(initial_amount)\n",
        "        duration = float(input(\"How many years are you going to invest that money ? \\n\"))\n",
        "        print(duration)\n",
        "        interest_rate = float(input(\"At what rate would you like to see interest ?\\n \\\n",
        "              WARNING: You will have to put a decimal value \\n Ex: 10% --> 0.10 \\n\"))\n",
        "        print(interest_rate)\n",
        "    except ValueError:\n",
        "        # We enter this except only if the user types something other than numbers.\n",
        "        raise ValueError(\"Please enter only numbers !\") # makes it possible to explain the error\n",
        "    else:\n",
        "        # We enter this else if the user has typed numbers correctly.\n",
        "        # We're going to run successive tests to create the other errors\n",
        "        \n",
        "        if (initial_amount < 0) or (duration < 0) or (interest_rate < 0):\n",
        "            raise ValueError(\"You have entered one or more negative values. \\n \\\n",
        "            Please type only positive values !\")\n",
        "        \n",
        "        if interest_rate > 1:\n",
        "            raise ValueError(\"You have entered an interest rate greater than 1%. \\n \\\n",
        "            Please enter an interest rate as a decimal value !\")\n",
        "        \n",
        "        # The following code will be executed if no errors occurred upstream\n",
        "        total = initial_amount*(1+interest_rate)**(duration)\n",
        "        total2 = initial_amount\n",
        "        for i in range(0, int(duration)):\n",
        "            total2 = total2 * (1+interest_rate)\n",
        "        \n",
        "        print(\"The total amount of money you will have after you deposit {:.2f} at the end of {} years will be {:.2f} €\"\n",
        "              .format(initial_amount, duration, total))\n",
        "        print(\"The total amount of money you will have after you deposit {:.2f} at the end of {} years will be {:.2f} €\"\n",
        "              .format(initial_amount, duration, total2))\n",
        "        "
      ]
    },
    {
      "cell_type": "code",
      "execution_count": 9,
      "metadata": {
        "colab": {},
        "colab_type": "code",
        "id": "K_2poSknltX4",
        "tags": []
      },
      "outputs": [
        {
          "name": "stdout",
          "output_type": "stream",
          "text": [
            "1000.0\n",
            "10.0\n",
            "0.05\n",
            "The total amount of money you will have after you deposit 1000.00 at the end of 10.0 years will be 1628.89 €\n",
            "The total amount of money you will have after you deposit 1000.00 at the end of 10.0 years will be 1628.89 €\n"
          ]
        }
      ],
      "source": [
        "savings()"
      ]
    }
  ],
  "metadata": {
    "colab": {
      "name": "Fondamentaux Python - Mini Projets S1-2B.ipynb",
      "provenance": [],
      "version": "0.3.2"
    },
    "kernelspec": {
      "display_name": "Python 3",
      "name": "python3"
    },
    "language_info": {
      "codemirror_mode": {
        "name": "ipython",
        "version": 3
      },
      "file_extension": ".py",
      "mimetype": "text/x-python",
      "name": "python",
      "nbconvert_exporter": "python",
      "pygments_lexer": "ipython3",
      "version": "3.11.5"
    }
  },
  "nbformat": 4,
  "nbformat_minor": 0
}
